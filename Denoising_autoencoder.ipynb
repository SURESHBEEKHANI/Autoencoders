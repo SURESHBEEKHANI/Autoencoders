{
  "nbformat": 4,
  "nbformat_minor": 0,
  "metadata": {
    "colab": {
      "private_outputs": true,
      "provenance": [],
      "gpuType": "T4",
      "authorship_tag": "ABX9TyNiFFCM7PrUoT87WBbwFyOR",
      "include_colab_link": true
    },
    "kernelspec": {
      "name": "python3",
      "display_name": "Python 3"
    },
    "language_info": {
      "name": "python"
    },
    "accelerator": "GPU"
  },
  "cells": [
    {
      "cell_type": "markdown",
      "metadata": {
        "id": "view-in-github",
        "colab_type": "text"
      },
      "source": [
        "<a href=\"https://colab.research.google.com/github/SURESHBEEKHANI/Autoencoders/blob/main/Denoising_autoencoder.ipynb\" target=\"_parent\"><img src=\"https://colab.research.google.com/assets/colab-badge.svg\" alt=\"Open In Colab\"/></a>"
      ]
    },
    {
      "cell_type": "markdown",
      "source": [
        "## Denoising autoencoder\n",
        "\n",
        "The last application of autoencoders we look at today are denoising autoencoders. You probably have no difficulty classifying the images below as 7's."
      ],
      "metadata": {
        "id": "LHnS88EqHB7F"
      }
    },
    {
      "cell_type": "code",
      "source": [
        "%tensorflow_version 2.x"
      ],
      "metadata": {
        "id": "rJMNcCWqHczr"
      },
      "execution_count": null,
      "outputs": []
    },
    {
      "cell_type": "code",
      "source": [
        "%pylab inline"
      ],
      "metadata": {
        "id": "U2qk1RFaHYBC"
      },
      "execution_count": null,
      "outputs": []
    },
    {
      "cell_type": "code",
      "execution_count": null,
      "metadata": {
        "id": "Wz8p2MPbG4rX"
      },
      "outputs": [],
      "source": [
        "\n",
        "#import the tensorflow import the keras\n",
        "from tensorflow import keras"
      ]
    },
    {
      "cell_type": "code",
      "source": [
        "#load the dataset\n",
        "(x_train, _),(x_test, _)=keras.datasets.mnist.load_data()"
      ],
      "metadata": {
        "id": "IhLxn3tuHtqt"
      },
      "execution_count": null,
      "outputs": []
    },
    {
      "cell_type": "code",
      "source": [
        "# norlaize data\n",
        "x_train=x_train/255.0\n",
        "x_test=x_test/255.0"
      ],
      "metadata": {
        "id": "zC-SfZL1H9x0"
      },
      "execution_count": null,
      "outputs": []
    },
    {
      "cell_type": "markdown",
      "source": [
        "#add Noise data in data"
      ],
      "metadata": {
        "id": "6WCsCb25Irqt"
      }
    },
    {
      "cell_type": "code",
      "source": [
        "# Set the figure size for the plot\n",
        "figsize(5, 10)\n",
        "\n",
        "# Plot the original image from the test set\n",
        "subplot(1, 2, 1)\n",
        "imshow(x_test[0], cmap=\"binary\")\n",
        "\n",
        "# Plot the noisy version of the original image\n",
        "subplot(1, 2, 2)\n",
        "# Generate random noise and add it to the original image\n",
        "noise = np.random.random((28, 28)) /-0.5\n",
        "imshow(x_test[0] + noise, cmap=\"binary\")"
      ],
      "metadata": {
        "id": "Me1f_IwuICFY"
      },
      "execution_count": null,
      "outputs": []
    },
    {
      "cell_type": "code",
      "source": [
        "#Defien Encoder Of Denoise autoencoder\n",
        "\n",
        "encoder= keras.models.Sequential([\n",
        "    keras.layers.Flatten(input_shape=[28,28]),\n",
        "    keras.layers.Dense(200,activation=\"relu\"),\n",
        "    keras.layers.Dense(100,activation=\"relu\"),\n",
        "    keras.layers.Dense(50,activation=\"relu\")\n",
        "    ])"
      ],
      "metadata": {
        "id": "dG8c8P1rIzMS"
      },
      "execution_count": null,
      "outputs": []
    },
    {
      "cell_type": "code",
      "source": [
        "#Define the decoder with dence and Full ceneb layers\n",
        "deecoder=keras.models.Sequential([\n",
        "    keras.layers.Dense(100,activation=\"relu\"),\n",
        "    keras.layers.Dense(200,activation=\"relu\"),\n",
        "    keras.layers.Dense(28*28,activation=\"sigmoid\"),\n",
        "    keras.layers.Reshape([28,28])\n",
        "])\n"
      ],
      "metadata": {
        "id": "C9g7lkOdK52Y"
      },
      "execution_count": null,
      "outputs": []
    },
    {
      "cell_type": "code",
      "source": [
        "#Comibe the model\n",
        "denoising_autoencoder=keras.models.Sequential([encoder,deecoder])"
      ],
      "metadata": {
        "id": "tHI1vcGpLfA7"
      },
      "execution_count": null,
      "outputs": []
    },
    {
      "cell_type": "code",
      "source": [
        "#compile the model\n",
        "denoising_autoencoder.compile(loss=\"binary_crossentropy\",optimizer=\"adam\")"
      ],
      "metadata": {
        "id": "yzXmNBVVLyXt"
      },
      "execution_count": null,
      "outputs": []
    },
    {
      "cell_type": "code",
      "source": [
        "#Add random Noise all data set trining and Testing\n",
        "x_train_noise = x_train + ((np.random.random(x_train.shape)) / 1)\n",
        "x_test_noise = x_test + ((np.random.random(x_test.shape)) / 1)\n",
        "\n"
      ],
      "metadata": {
        "id": "g9RSR5jEL_pH"
      },
      "execution_count": null,
      "outputs": []
    },
    {
      "cell_type": "code",
      "source": [
        "\n",
        "# Display an example of the noisy training data\n",
        "imshow(x_train_noise[0], cmap=\"binary\")\n"
      ],
      "metadata": {
        "id": "48z0ojqYMSsu"
      },
      "execution_count": null,
      "outputs": []
    },
    {
      "cell_type": "code",
      "source": [
        "# Train the stacked autoencoder model on the noisy training data\n",
        "history = denoising_autoencoder.fit(\n",
        "    # Input is the noisy training data (x_train_noise), target is the original clean training data (x_train)\n",
        "    x_train_noise, x_train,\n",
        "    # Train for 10 epochs\n",
        "    epochs=10,\n",
        "    # Use noisy test data (x_test_noise) for validation during training, with original clean test data (x_test) as target\n",
        "    validation_data=[x_test_noise, x_test]\n",
        ")\n"
      ],
      "metadata": {
        "id": "qK1NAQo-MkPi"
      },
      "execution_count": null,
      "outputs": []
    },
    {
      "cell_type": "code",
      "source": [
        "# Set the figure size for the plot\n",
        "figsize(20, 10)\n",
        "\n",
        "# Iterate over 8 examples from the noisy test set\n",
        "for i in range(4):\n",
        "    # Plot the noisy version of the original image from the test set\n",
        "    subplot(2, 4, i+1)\n",
        "    imshow(x_test_noise[i], cmap=\"binary\")\n",
        "    plt.title(\"NOISY\")\n",
        "\n",
        "    # Plot the reconstructed image by the stacked autoencoder using the noisy input\n",
        "    subplot(2, 4, i+4+1)\n",
        "    # Make a prediction using the stacked autoencoder on the current noisy test image\n",
        "    pred = denoising_autoencoder.predict(x_test_noise[i].reshape((1, 28, 28)))\n",
        "    plt.title(\"DENOISING\")\n",
        "    # Display the reconstructed image\n",
        "    imshow(pred.reshape((28, 28)), cmap=\"binary\")\n"
      ],
      "metadata": {
        "id": "d64EclaXNYo0"
      },
      "execution_count": null,
      "outputs": []
    }
  ]
}