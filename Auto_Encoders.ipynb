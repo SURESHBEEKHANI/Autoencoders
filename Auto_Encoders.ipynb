{
  "nbformat": 4,
  "nbformat_minor": 0,
  "metadata": {
    "colab": {
      "private_outputs": true,
      "provenance": [],
      "toc_visible": true,
      "gpuType": "T4",
      "authorship_tag": "ABX9TyNm7cT4C+duz0qsFtOxX8He",
      "include_colab_link": true
    },
    "kernelspec": {
      "name": "python3",
      "display_name": "Python 3"
    },
    "language_info": {
      "name": "python"
    },
    "accelerator": "GPU"
  },
  "cells": [
    {
      "cell_type": "markdown",
      "metadata": {
        "id": "view-in-github",
        "colab_type": "text"
      },
      "source": [
        "<a href=\"https://colab.research.google.com/github/SURESHBEEKHANI/Autoencoder/blob/main/Auto_Encoders.ipynb\" target=\"_parent\"><img src=\"https://colab.research.google.com/assets/colab-badge.svg\" alt=\"Open In Colab\"/></a>"
      ]
    },
    {
      "cell_type": "code",
      "execution_count": null,
      "metadata": {
        "id": "gr5ULVLKzkPQ"
      },
      "outputs": [],
      "source": [
        "from tensorflow import keras"
      ]
    },
    {
      "cell_type": "code",
      "source": [
        "#load the dataset not use label in  we prisuction data we Generation\n",
        "(x_train, _),(x_test, _)=keras.datasets.mnist.load_data()"
      ],
      "metadata": {
        "id": "YtRqU4rTGjSP"
      },
      "execution_count": null,
      "outputs": []
    },
    {
      "cell_type": "code",
      "source": [
        "#normilize the data range into [0,1]\n",
        "x_train=x_train/255.0\n",
        "x_test=x_test/255.0"
      ],
      "metadata": {
        "id": "kxK6xRC4HMJG"
      },
      "execution_count": null,
      "outputs": []
    },
    {
      "cell_type": "code",
      "source": [
        "# Define the simple autoencoder\n",
        "\n",
        "# Create the encoder part of the autoencoder\n",
        "encoder = keras.Sequential([\n",
        "    # Flatten the input image of shape 28x28 into a 1D array of 784 elements\n",
        "    keras.layers.Flatten(input_shape=[28, 28]),\n",
        "\n",
        "    # First dense layer with 100 neurons and ReLU activation function\n",
        "    keras.layers.Dense(100, activation='relu'),\n",
        "\n",
        "    # Second dense layer with 30 neurons and ReLU activation function\n",
        "    keras.layers.Dense(30, activation='relu')\n",
        "])\n"
      ],
      "metadata": {
        "id": "6uhvWYoZHeOF"
      },
      "execution_count": null,
      "outputs": []
    },
    {
      "cell_type": "code",
      "source": [
        "#create the decoder part of autoencoder\n",
        "decoder = keras.Sequential([\n",
        "\n",
        "    # Second dense layer with 100 neurons and ReLU activation function\n",
        "    keras.layers.Dense(100, activation='relu', input_shape=[30]),\n",
        "   # Flatten the output of the decoder into a 28x28 image\n",
        "   # First dense layer with 784 neurons and sigmoid activation function\n",
        "    keras.layers.Dense(784, activation='sigmoid'),\n",
        "    #Reshape the image\n",
        "    keras.layers.Reshape([28, 28])\n",
        "])"
      ],
      "metadata": {
        "id": "goU5XFv_KdCn"
      },
      "execution_count": null,
      "outputs": []
    },
    {
      "cell_type": "code",
      "source": [
        "#Bulid model in Sequential\n",
        "\n",
        "stacked_autoencoder = keras.Sequential([encoder, decoder])"
      ],
      "metadata": {
        "id": "uqxvvvK8JwnI"
      },
      "execution_count": null,
      "outputs": []
    },
    {
      "cell_type": "code",
      "source": [
        "#compile  the staxked autoencoder model\n",
        "#Use binary_corossentropy Function  and Optinixer Adam\n",
        "\n",
        "stacked_autoencoder.compile(loss='binary_crossentropy', optimizer='adam')\n",
        "model.summary()"
      ],
      "metadata": {
        "id": "DLwEhamKMTZ6"
      },
      "execution_count": null,
      "outputs": []
    },
    {
      "cell_type": "code",
      "source": [
        "#Train the model\n",
        "stacked_autoencoder.fit(x_train, x_train, epochs=10, validation_data=(x_test, x_test))"
      ],
      "metadata": {
        "id": "KuR0sQDKNE_n"
      },
      "execution_count": null,
      "outputs": []
    }
  ]
}