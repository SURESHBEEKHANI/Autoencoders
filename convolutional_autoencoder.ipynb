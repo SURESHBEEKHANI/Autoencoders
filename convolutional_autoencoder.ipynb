{
  "nbformat": 4,
  "nbformat_minor": 0,
  "metadata": {
    "colab": {
      "private_outputs": true,
      "provenance": [],
      "authorship_tag": "ABX9TyPAxITz3/nBo9tk31xMXwT0",
      "include_colab_link": true
    },
    "kernelspec": {
      "name": "python3",
      "display_name": "Python 3"
    },
    "language_info": {
      "name": "python"
    }
  },
  "cells": [
    {
      "cell_type": "markdown",
      "metadata": {
        "id": "view-in-github",
        "colab_type": "text"
      },
      "source": [
        "<a href=\"https://colab.research.google.com/github/SURESHBEEKHANI/Autoencoder/blob/main/convolutional_autoencoder.ipynb\" target=\"_parent\"><img src=\"https://colab.research.google.com/assets/colab-badge.svg\" alt=\"Open In Colab\"/></a>"
      ]
    },
    {
      "cell_type": "code",
      "execution_count": null,
      "metadata": {
        "id": "9WafsGOC7ivm"
      },
      "outputs": [],
      "source": [
        "#import the tensorflow import the keras\n",
        "from tensorflow import keras"
      ]
    },
    {
      "cell_type": "code",
      "source": [
        "#load the dataset\n",
        "(x_train, _),(x_test, _)=keras.datasets.mnist.load_data()"
      ],
      "metadata": {
        "id": "wSUm16mS8yYN"
      },
      "execution_count": null,
      "outputs": []
    },
    {
      "cell_type": "code",
      "source": [
        "#normilize the data range into [0,1]\n",
        "x_train=x_train/255.0\n",
        "x_test=x_test/255.0"
      ],
      "metadata": {
        "id": "m1Cd_Amh9CK8"
      },
      "execution_count": null,
      "outputs": []
    },
    {
      "cell_type": "code",
      "source": [
        "# Define the encoder part of a Convolutional Autoencoder\n",
        "encoder = keras.Sequential([\n",
        "    # Reshape the input to add a channel dimension\n",
        "    # This layer is needed because convolutional layers expect input with shape (height, width, channels)\n",
        "    keras.layers.Reshape((28, 28, 1), input_shape=(28, 28)),\n",
        "\n",
        "    # Add a 2D convolutional layer with 32 filters\n",
        "    # kernel_size=(3, 3) specifies the size of the convolutional filter\n",
        "    # activation='relu' applies the ReLU activation function\n",
        "    # padding='same' means the output size is the same as the input size\n",
        "    keras.layers.Conv2D(32, kernel_size=(3, 3), activation='relu', padding='same'),\n",
        "\n",
        "    # Add a max pooling layer to reduce the spatial dimensions of the output\n",
        "    # pool_size=(2, 2) specifies the size of the pooling window\n",
        "    # padding='same' means the output size is the same as the input size\n",
        "    keras.layers.MaxPooling2D(pool_size=(2, 2), padding='same'),\n",
        "\n",
        "    # Add another 2D convolutional layer with 64 filters\n",
        "    # kernel_size=(3, 3) specifies the size of the convolutional filter\n",
        "    # activation='relu' applies the ReLU activation function\n",
        "    # padding='same' means the output size is the same as the input size\n",
        "    keras.layers.Conv2D(64, kernel_size=(3, 3), activation='relu', padding='same'),\n",
        "\n",
        "    # Add another max pooling layer to further reduce the spatial dimensions\n",
        "    # pool_size=(2, 2) specifies the size of the pooling window\n",
        "    # padding='same' means the output size is the same as the input size\n",
        "    keras.layers.MaxPooling2D(pool_size=(2, 2), padding='same'),\n",
        "\n",
        "    # Add another 2D convolutional layer with 128 filters\n",
        "    # kernel_size=(3, 3) specifies the size of the convolutional filter\n",
        "    # activation='relu' applies the ReLU activation function\n",
        "    # padding='same' means the output size is the same as the input size\n",
        "    keras.layers.Conv2D(128, kernel_size=(3, 3), activation='relu', padding='same'),\n",
        "\n",
        "    # Add another max pooling layer to further reduce the spatial dimensions\n",
        "    # pool_size=(2, 2) specifies the size of the pooling window\n",
        "    # padding='same' means the output size is the same as the input size\n",
        "    keras.layers.MaxPooling2D(pool_size=(2, 2), padding='same')\n",
        "])\n",
        "\n",
        "# Print the encoder model summary\n",
        "encoder.summary()"
      ],
      "metadata": {
        "id": "9WL8WIfZ9Gn7"
      },
      "execution_count": null,
      "outputs": []
    },
    {
      "cell_type": "code",
      "source": [
        "# Assuming you have your test data loaded into x_test\n",
        "# Take the first test sample from x_test and reshape it to (1, 28, 28, 1)\n",
        "# so it matches the expected input shape of the encoder\n",
        "sample_input = x_test[0].reshape((1, 28, 28,1))\n",
        "\n",
        "# Use the encoder to make a prediction on the test sample\n",
        "encoded_output = encoder.predict(sample_input)\n",
        "\n",
        "# Print the shape of the encoded output\n",
        "print(encoded_output.shape)\n"
      ],
      "metadata": {
        "id": "WZKOjY4mCO5s"
      },
      "execution_count": null,
      "outputs": []
    },
    {
      "cell_type": "code",
      "source": [
        "#Defien the DEcoder pare\n",
        "de"
      ],
      "metadata": {
        "id": "c7ogfW4nHX7d"
      },
      "execution_count": null,
      "outputs": []
    }
  ]
}