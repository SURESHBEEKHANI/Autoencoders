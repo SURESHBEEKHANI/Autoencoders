{
  "nbformat": 4,
  "nbformat_minor": 0,
  "metadata": {
    "colab": {
      "private_outputs": true,
      "provenance": [],
      "gpuType": "T4",
      "authorship_tag": "ABX9TyMSYk111wmZ/wKKDlb9O837",
      "include_colab_link": true
    },
    "kernelspec": {
      "name": "python3",
      "display_name": "Python 3"
    },
    "language_info": {
      "name": "python"
    },
    "accelerator": "GPU"
  },
  "cells": [
    {
      "cell_type": "markdown",
      "metadata": {
        "id": "view-in-github",
        "colab_type": "text"
      },
      "source": [
        "<a href=\"https://colab.research.google.com/github/SURESHBEEKHANI/Autoencoder/blob/main/Vanilla%20Autoencoder.ipynb\" target=\"_parent\"><img src=\"https://colab.research.google.com/assets/colab-badge.svg\" alt=\"Open In Colab\"/></a>"
      ]
    },
    {
      "cell_type": "code",
      "execution_count": null,
      "metadata": {
        "id": "gr5ULVLKzkPQ"
      },
      "outputs": [],
      "source": [
        "from tensorflow import keras\n",
        "from tensorflow.keras.optimizers import Adam"
      ]
    },
    {
      "cell_type": "code",
      "source": [
        "#load the dataset not use label in  we prisuction data we Generation\n",
        "(x_train, _),(x_test, _)=keras.datasets.mnist.load_data()"
      ],
      "metadata": {
        "id": "YtRqU4rTGjSP"
      },
      "execution_count": null,
      "outputs": []
    },
    {
      "cell_type": "code",
      "source": [
        "#normilize the data range into [0,1]\n",
        "x_train=x_train/255.0\n",
        "x_test=x_test/255.0"
      ],
      "metadata": {
        "id": "kxK6xRC4HMJG"
      },
      "execution_count": null,
      "outputs": []
    },
    {
      "cell_type": "code",
      "source": [
        "# Define the simple autoencoder\n",
        "\n",
        "# Create the encoder part of the autoencoder\n",
        "encoder = keras.Sequential([\n",
        "    # Flatten the input image of shape 28x28 into a 1D array of 784 elements\n",
        "    keras.layers.Flatten(input_shape=[28, 28]),\n",
        "\n",
        "    # First dense layer with 100 neurons and ReLU activation function\n",
        "    keras.layers.Dense(100, activation='relu'),\n",
        "\n",
        "    # Second dense layer with 30 neurons and ReLU activation function\n",
        "    keras.layers.Dense(30, activation='relu')\n",
        "])\n"
      ],
      "metadata": {
        "id": "6uhvWYoZHeOF"
      },
      "execution_count": null,
      "outputs": []
    },
    {
      "cell_type": "code",
      "source": [
        "#create the decoder part of autoencoder\n",
        "decoder = keras.Sequential([\n",
        "\n",
        "    # Second dense layer with 100 neurons and ReLU activation function\n",
        "    keras.layers.Dense(100, activation='relu', input_shape=[30]),\n",
        "   # Flatten the output of the decoder into a 28x28 image\n",
        "   # First dense layer with 784 neurons and sigmoid activation function\n",
        "    keras.layers.Dense(784, activation='sigmoid'),\n",
        "    #Reshape the image\n",
        "    keras.layers.Reshape([28, 28])\n",
        "])"
      ],
      "metadata": {
        "id": "goU5XFv_KdCn"
      },
      "execution_count": null,
      "outputs": []
    },
    {
      "cell_type": "code",
      "source": [
        "#Bulid model in Sequential\n",
        "\n",
        "stacked_autoencoder = keras.Sequential([encoder, decoder])"
      ],
      "metadata": {
        "id": "uqxvvvK8JwnI"
      },
      "execution_count": null,
      "outputs": []
    },
    {
      "cell_type": "code",
      "source": [
        "# Define the optimizer with a specific learning rate\n",
        "optimizer = Adam(learning_rate=0.001)\n",
        "\n",
        "# Compile the stacked autoencoder model with the optimizer\n",
        "stacked_autoencoder.compile(optimizer=optimizer,\n",
        "                            loss='binary_crossentropy',  # Use appropriate loss function for reconstruction\n",
        "                            metrics=['accuracy'])\n",
        "\n",
        "# Print model summary\n",
        "stacked_autoencoder.summary()"
      ],
      "metadata": {
        "id": "DLwEhamKMTZ6"
      },
      "execution_count": null,
      "outputs": []
    },
    {
      "cell_type": "code",
      "source": [
        "#Train the model\n",
        "stacked_autoencoder.fit(x_train, x_train, epochs=15, batch_size=10 ,validation_data=[x_test, x_test])"
      ],
      "metadata": {
        "id": "KuR0sQDKNE_n"
      },
      "execution_count": null,
      "outputs": []
    },
    {
      "cell_type": "code",
      "source": [
        "import matplotlib.pyplot as plt\n",
        "\n",
        "# Assuming stacked_autoencoder is your trained autoencoder model\n",
        "# Assuming x_test contains your test data\n",
        "\n",
        "# Set the figure size\n",
        "plt.figure(figsize=(20, 5))\n",
        "\n",
        "# Loop through and plot original and reconstructed images\n",
        "for i in range(8):\n",
        "    # Original image\n",
        "    original = x_test[i].reshape(28, 28)\n",
        "\n",
        "    # Reconstructed image\n",
        "    reconstructed = stacked_autoencoder.predict(x_test[i].reshape(1, 28, 28))[0].reshape(28, 28)\n",
        "\n",
        "    # Plotting original image\n",
        "    plt.subplot(2, 8, i + 1)\n",
        "    plt.imshow(original, cmap='binary')  # Fixed cmap='binary' instead of 'binarry'\n",
        "    plt.title('Original')\n",
        "\n",
        "\n",
        "    # Plotting reconstructed image\n",
        "    plt.subplot(2, 8, 8 + i + 1)\n",
        "    plt.imshow(reconstructed, cmap='binary')  # Fixed cmap='binary' instead of 'binarry'\n",
        "    plt.title('Reconstructed')\n",
        "\n",
        "# Adjust layout and display plot\n",
        "plt.tight_layout()\n",
        "plt.show()\n"
      ],
      "metadata": {
        "id": "Xi-xDfclwszy"
      },
      "execution_count": null,
      "outputs": []
    },
    {
      "cell_type": "code",
      "source": [
        "# Set the index of the image you want to visualize\n",
        "i = 0\n",
        "\n",
        "# Set up the figure and subplots\n",
        "plt.figure(figsize=(15, 5))\n",
        "\n",
        "# Plot the original image\n",
        "plt.subplot(1, 3, 1)\n",
        "plt.imshow(x_test[i], cmap='binary')\n",
        "plt.title('Original Image')\n",
        "\n",
        "\n",
        "# Plot the latent space representation\n",
        "plt.subplot(1, 3, 2)\n",
        "latent_space = encoder.predict(x_test[i].reshape(1, 28, 28))\n",
        "plt.imshow(latent_space, cmap='binary')  # Assuming latent_space shape is (1, 30)\n",
        "plt.title('Latent Space Representation')\n",
        "\n",
        "\n",
        "# Reconstruct the image from the latent space representation\n",
        "reconstructed = decoder.predict(latent_space)\n",
        "plt.subplot(1, 3, 3)\n",
        "plt.imshow(reconstructed.reshape(28, 28), cmap='binary')\n",
        "plt.title('Reconstructed Image')\n",
        "\n",
        "\n",
        "# Show the plot\n",
        "plt.tight_layout()\n",
        "plt.show()\n"
      ],
      "metadata": {
        "id": "tr5WQnaUyg1V"
      },
      "execution_count": null,
      "outputs": []
    },
    {
      "cell_type": "code",
      "source": [
        "# Calculate sparsity_lower: This calculates the proportion of zero elements in a 28x28 matrix\n",
        "# where 30 elements are zero.\n",
        "sparsity_lower = 30 / (28 * 28)\n",
        "\n",
        "# Calculate sparsity_higher: This calculates the proportion of non-zero elements in the same\n",
        "# 28x28 matrix.\n",
        "sparsity_higher = 1 - sparsity_lower\n",
        "\n",
        "# Display the results\n",
        "print(\"Sparsity Lower:\", sparsity_lower)\n",
        "print(\"Sparsity Higher:\", sparsity_higher)\n"
      ],
      "metadata": {
        "id": "scWG6v2y4n-I"
      },
      "execution_count": null,
      "outputs": []
    }
  ]
}